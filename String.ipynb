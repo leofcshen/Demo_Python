{
 "cells": [
  {
   "cell_type": "markdown",
   "metadata": {},
   "source": [
    "# String"
   ]
  },
  {
   "cell_type": "markdown",
   "metadata": {},
   "source": [
    "## f-string_String interpolation_字串插補"
   ]
  },
  {
   "cell_type": "code",
   "execution_count": null,
   "metadata": {},
   "outputs": [],
   "source": [
    "r = 5\n",
    "print(f'半徑為{r}的圓')"
   ]
  },
  {
   "cell_type": "code",
   "execution_count": null,
   "metadata": {},
   "outputs": [],
   "source": [
    "import math\n",
    "\n",
    "r = 5\n",
    "# ^ => 置中\n",
    "print(f'半徑為{r:_^7}的圓面積為{math.pi*pow(r, 2):_^10.3f}')"
   ]
  },
  {
   "cell_type": "code",
   "execution_count": null,
   "metadata": {},
   "outputs": [],
   "source": [
    "num = 100\n",
    "print(f'數字   => {num}')\n",
    "print(f'二進位 => {num:b}')\n",
    "print(f'八進位 => {num:o}')\n",
    "print(f'十六進位 => {num:x}')\n",
    "print(f'百分比 => {num:%}')\n",
    "print(f'科學記號 => {num:e}')\n",
    "print(f'ASCII => {num:c}')"
   ]
  },
  {
   "cell_type": "markdown",
   "metadata": {},
   "source": [
    "### 日期"
   ]
  },
  {
   "cell_type": "code",
   "execution_count": null,
   "metadata": {},
   "outputs": [],
   "source": [
    "from datetime import datetime\n",
    "print(f'{datetime.today():%Y年%m月%d日}')"
   ]
  },
  {
   "cell_type": "markdown",
   "metadata": {},
   "source": [
    "### 表達式文本"
   ]
  },
  {
   "cell_type": "code",
   "execution_count": null,
   "metadata": {},
   "outputs": [],
   "source": [
    "# Python 3.8\n",
    "num = 100\n",
    "text = '你好'\n",
    "\n",
    "print(f'{num=}, {text = }')"
   ]
  },
  {
   "cell_type": "markdown",
   "metadata": {},
   "source": [
    "### 重用引號"
   ]
  },
  {
   "cell_type": "code",
   "execution_count": null,
   "metadata": {},
   "outputs": [],
   "source": [
    "print('I\\'m Tom')\n",
    "print(\"I'm Tom\")\n",
    "\n",
    "man = {'name': \"Tom\"}\n",
    "print(f'{man[\"name\"]}')\n",
    "# Python 3.12\n",
    "print(f'{man['name']}')"
   ]
  },
  {
   "cell_type": "markdown",
   "metadata": {},
   "source": [
    "### 反斜線跳脫字元"
   ]
  },
  {
   "cell_type": "code",
   "execution_count": null,
   "metadata": {},
   "outputs": [],
   "source": [
    "ss = 'abcdefg'\n",
    "# Python 3.12\n",
    "print(f'{\"\\n\".join(ss)}')\n",
    "# unicode Emoji\n",
    "print(f'{'\\N{chicken}'+'\\N{foot}'}')"
   ]
  },
  {
   "cell_type": "markdown",
   "metadata": {},
   "source": [
    "### 表達大括號"
   ]
  },
  {
   "cell_type": "code",
   "execution_count": null,
   "metadata": {},
   "outputs": [],
   "source": [
    "num = 100\n",
    "\n",
    "# 用兩個大括號\n",
    "print(f'{{{num}}}')"
   ]
  },
  {
   "cell_type": "markdown",
   "metadata": {},
   "source": [
    "### 多行字串符"
   ]
  },
  {
   "cell_type": "code",
   "execution_count": null,
   "metadata": {},
   "outputs": [],
   "source": [
    "print(f\"{'='.join(['a', 'b', 'c'])}\")\n",
    "\n",
    "# Python 3.12\n",
    "print(f\"{'='.join(['a', # 1\n",
    "\t\t\t\t\t\t\t\t\t 'b', # 2\n",
    "\t\t\t\t\t\t\t\t\t 'c'  # 3\n",
    "\t\t\t\t\t\t\t\t\t ])}\")"
   ]
  }
 ],
 "metadata": {
  "kernelspec": {
   "display_name": "Python 3",
   "language": "python",
   "name": "python3"
  },
  "language_info": {
   "codemirror_mode": {
    "name": "ipython",
    "version": 3
   },
   "file_extension": ".py",
   "mimetype": "text/x-python",
   "name": "python",
   "nbconvert_exporter": "python",
   "pygments_lexer": "ipython3",
   "version": "3.12.2"
  }
 },
 "nbformat": 4,
 "nbformat_minor": 2
}
